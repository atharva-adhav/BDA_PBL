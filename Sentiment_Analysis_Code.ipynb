{
 "cells": [
  {
   "cell_type": "markdown",
   "metadata": {},
   "source": [
    "# Importing python packages"
   ]
  },
  {
   "cell_type": "code",
   "execution_count": 1,
   "metadata": {
    "_cell_guid": "b1076dfc-b9ad-4769-8c92-a6c4dae69d19",
    "_uuid": "8f2839f25d086af736a60e9eeb907d3b93b6e0e5"
   },
   "outputs": [],
   "source": [
    "#Data processing packages\n",
    "import pandas as pd\n",
    "import numpy as np\n",
    "pd.set_option('display.max_colwidth', 200)\n",
    "\n",
    "#Visualization packages\n",
    "import matplotlib.pyplot as plt\n",
    "import seaborn as sns\n",
    "\n",
    "#NLP packages\n",
    "from textblob import TextBlob\n",
    "\n",
    "import warnings\n",
    "warnings.filterwarnings(\"ignore\")"
   ]
  },
  {
   "cell_type": "markdown",
   "metadata": {},
   "source": [
    "# Testing Sentiment Analysis (sample)"
   ]
  },
  {
   "cell_type": "code",
   "execution_count": 2,
   "metadata": {},
   "outputs": [
    {
     "data": {
      "text/plain": [
       "Sentiment(polarity=0.7, subjectivity=0.6000000000000001)"
      ]
     },
     "execution_count": 2,
     "metadata": {},
     "output_type": "execute_result"
    }
   ],
   "source": [
    "#Testing NLP - Sentiment Analysis using TextBlob\n",
    "TextBlob(\"The movie is good\").sentiment"
   ]
  },
  {
   "cell_type": "markdown",
   "metadata": {},
   "source": [
    "# Importing YouTube comments data"
   ]
  },
  {
   "cell_type": "code",
   "execution_count": 3,
   "metadata": {},
   "outputs": [],
   "source": [
    "#Importing YouTube comments data\n",
    "data = pd.read_csv('UScomments.csv');#opening the file UScomments"
   ]
  },
  {
   "cell_type": "markdown",
   "metadata": {},
   "source": [
    "# Displaying first 5 rows of data"
   ]
  },
  {
   "cell_type": "code",
   "execution_count": 4,
   "metadata": {},
   "outputs": [
    {
     "data": {
      "text/html": [
       "<div>\n",
       "<style scoped>\n",
       "    .dataframe tbody tr th:only-of-type {\n",
       "        vertical-align: middle;\n",
       "    }\n",
       "\n",
       "    .dataframe tbody tr th {\n",
       "        vertical-align: top;\n",
       "    }\n",
       "\n",
       "    .dataframe thead th {\n",
       "        text-align: right;\n",
       "    }\n",
       "</style>\n",
       "<table border=\"1\" class=\"dataframe\">\n",
       "  <thead>\n",
       "    <tr style=\"text-align: right;\">\n",
       "      <th></th>\n",
       "      <th>video_id</th>\n",
       "      <th>comment_text</th>\n",
       "      <th>likes</th>\n",
       "      <th>replies</th>\n",
       "    </tr>\n",
       "  </thead>\n",
       "  <tbody>\n",
       "    <tr>\n",
       "      <td>0</td>\n",
       "      <td>XpVt6Z1Gjjo</td>\n",
       "      <td>Logan Paul it's yo big day ������������������</td>\n",
       "      <td>4</td>\n",
       "      <td>0</td>\n",
       "    </tr>\n",
       "    <tr>\n",
       "      <td>1</td>\n",
       "      <td>XpVt6Z1Gjjo</td>\n",
       "      <td>I've been following you from the start of your vine channel and have seen all 365 vlogs</td>\n",
       "      <td>3</td>\n",
       "      <td>0</td>\n",
       "    </tr>\n",
       "    <tr>\n",
       "      <td>2</td>\n",
       "      <td>XpVt6Z1Gjjo</td>\n",
       "      <td>Say hi to Kong and maverick for me</td>\n",
       "      <td>3</td>\n",
       "      <td>0</td>\n",
       "    </tr>\n",
       "    <tr>\n",
       "      <td>3</td>\n",
       "      <td>XpVt6Z1Gjjo</td>\n",
       "      <td>MY FAN . attendance</td>\n",
       "      <td>3</td>\n",
       "      <td>0</td>\n",
       "    </tr>\n",
       "    <tr>\n",
       "      <td>4</td>\n",
       "      <td>XpVt6Z1Gjjo</td>\n",
       "      <td>trending ����</td>\n",
       "      <td>3</td>\n",
       "      <td>0</td>\n",
       "    </tr>\n",
       "  </tbody>\n",
       "</table>\n",
       "</div>"
      ],
      "text/plain": [
       "      video_id  \\\n",
       "0  XpVt6Z1Gjjo   \n",
       "1  XpVt6Z1Gjjo   \n",
       "2  XpVt6Z1Gjjo   \n",
       "3  XpVt6Z1Gjjo   \n",
       "4  XpVt6Z1Gjjo   \n",
       "\n",
       "                                                                              comment_text  \\\n",
       "0                                            Logan Paul it's yo big day ������������������   \n",
       "1  I've been following you from the start of your vine channel and have seen all 365 vlogs   \n",
       "2                                                       Say hi to Kong and maverick for me   \n",
       "3                                                                      MY FAN . attendance   \n",
       "4                                                                            trending ����   \n",
       "\n",
       "  likes replies  \n",
       "0     4       0  \n",
       "1     3       0  \n",
       "2     3       0  \n",
       "3     3       0  \n",
       "4     3       0  "
      ]
     },
     "execution_count": 4,
     "metadata": {},
     "output_type": "execute_result"
    }
   ],
   "source": [
    "#Displaying the first 5 rows of the data\n",
    "data.head()"
   ]
  },
  {
   "cell_type": "code",
   "execution_count": 5,
   "metadata": {},
   "outputs": [
    {
     "data": {
      "text/plain": [
       "(467009, 4)"
      ]
     },
     "execution_count": 5,
     "metadata": {},
     "output_type": "execute_result"
    }
   ],
   "source": [
    "#Finding the size of the data\n",
    "data.shape"
   ]
  },
  {
   "cell_type": "markdown",
   "metadata": {},
   "source": [
    "# Extracting 2000 random samples from the data"
   ]
  },
  {
   "cell_type": "code",
   "execution_count": 6,
   "metadata": {},
   "outputs": [
    {
     "data": {
      "text/plain": [
       "(2000, 4)"
      ]
     },
     "execution_count": 6,
     "metadata": {},
     "output_type": "execute_result"
    }
   ],
   "source": [
    "#Extracting 2000 random samples from the data\n",
    "comm = data.sample(2000)\n",
    "comm.shape"
   ]
  },
  {
   "cell_type": "markdown",
   "metadata": {},
   "source": [
    "# Calculating Sentiment polarity for each comment"
   ]
  },
  {
   "cell_type": "code",
   "execution_count": 7,
   "metadata": {},
   "outputs": [],
   "source": [
    "#Calculating the Sentiment Polarity\n",
    "pol=[] # list which will contain the polarity of the comments\n",
    "for i in comm.comment_text.values:\n",
    "    try:\n",
    "        analysis =TextBlob(i)\n",
    "        pol.append(analysis.sentiment.polarity)\n",
    "        \n",
    "    except:\n",
    "        pol.append(0)"
   ]
  },
  {
   "cell_type": "markdown",
   "metadata": {},
   "source": [
    "# Adding the Sentiment Polarity column to the data"
   ]
  },
  {
   "cell_type": "code",
   "execution_count": 8,
   "metadata": {},
   "outputs": [],
   "source": [
    "#Adding the Sentiment Polarity column to the data\n",
    "comm['pol']=pol"
   ]
  },
  {
   "cell_type": "markdown",
   "metadata": {},
   "source": [
    "# Converting the polarity values from continuous to categorical"
   ]
  },
  {
   "cell_type": "code",
   "execution_count": 9,
   "metadata": {},
   "outputs": [],
   "source": [
    "#Converting the polarity values from continuous to categorical\n",
    "comm['pol'][comm.pol==0]= 0\n",
    "comm['pol'][comm.pol > 0]= 1\n",
    "comm['pol'][comm.pol < 0]= -1"
   ]
  },
  {
   "cell_type": "markdown",
   "metadata": {},
   "source": [
    "# Displaying Positive comments"
   ]
  },
  {
   "cell_type": "code",
   "execution_count": 10,
   "metadata": {},
   "outputs": [
    {
     "data": {
      "text/html": [
       "<div>\n",
       "<style scoped>\n",
       "    .dataframe tbody tr th:only-of-type {\n",
       "        vertical-align: middle;\n",
       "    }\n",
       "\n",
       "    .dataframe tbody tr th {\n",
       "        vertical-align: top;\n",
       "    }\n",
       "\n",
       "    .dataframe thead th {\n",
       "        text-align: right;\n",
       "    }\n",
       "</style>\n",
       "<table border=\"1\" class=\"dataframe\">\n",
       "  <thead>\n",
       "    <tr style=\"text-align: right;\">\n",
       "      <th></th>\n",
       "      <th>video_id</th>\n",
       "      <th>comment_text</th>\n",
       "      <th>likes</th>\n",
       "      <th>replies</th>\n",
       "      <th>pol</th>\n",
       "    </tr>\n",
       "  </thead>\n",
       "  <tbody>\n",
       "    <tr>\n",
       "      <td>185356</td>\n",
       "      <td>LVPIM06bMJo</td>\n",
       "      <td>he is too adorable , almost brought me to tears</td>\n",
       "      <td>0</td>\n",
       "      <td>0</td>\n",
       "      <td>1.0</td>\n",
       "    </tr>\n",
       "    <tr>\n",
       "      <td>146984</td>\n",
       "      <td>8ZRCdfaAIy0</td>\n",
       "      <td>Even though it wasn't a review, this might've been the most honest review I've ever seen���</td>\n",
       "      <td>0</td>\n",
       "      <td>0</td>\n",
       "      <td>1.0</td>\n",
       "    </tr>\n",
       "    <tr>\n",
       "      <td>451827</td>\n",
       "      <td>x0GbpqxD42k</td>\n",
       "      <td>I just want to mention how awesome Bostonians are. At :07 they even drink beer in sync!</td>\n",
       "      <td>0</td>\n",
       "      <td>0</td>\n",
       "      <td>1.0</td>\n",
       "    </tr>\n",
       "    <tr>\n",
       "      <td>321851</td>\n",
       "      <td>r9-DM9uBtVI</td>\n",
       "      <td>Lol... quit it with these superhero movies! It's making me laugh! Your never gonna beat Marvel and I gotta admit Marvel is shit.</td>\n",
       "      <td>1</td>\n",
       "      <td>0</td>\n",
       "      <td>1.0</td>\n",
       "    </tr>\n",
       "    <tr>\n",
       "      <td>432567</td>\n",
       "      <td>KGQTkWJ5mU4</td>\n",
       "      <td>There is so much speculation and pure bullshit in this video</td>\n",
       "      <td>0</td>\n",
       "      <td>0</td>\n",
       "      <td>1.0</td>\n",
       "    </tr>\n",
       "    <tr>\n",
       "      <td>342626</td>\n",
       "      <td>_0d3XbH12cs</td>\n",
       "      <td>Incredibly beautiful and soft simplicity in this video. it's perfect. I love the styling of clothes/hair/nature and vibe of this song. I'm excited for the album,  especially if it's like this song...</td>\n",
       "      <td>0</td>\n",
       "      <td>0</td>\n",
       "      <td>1.0</td>\n",
       "    </tr>\n",
       "    <tr>\n",
       "      <td>292228</td>\n",
       "      <td>y_h_1uN2RQA</td>\n",
       "      <td>Loving this song.</td>\n",
       "      <td>0</td>\n",
       "      <td>0</td>\n",
       "      <td>1.0</td>\n",
       "    </tr>\n",
       "    <tr>\n",
       "      <td>458410</td>\n",
       "      <td>IZ5izPbcgG4</td>\n",
       "      <td>HAHA HES SO SHOOK FOR THE REST OF THE VIDEO</td>\n",
       "      <td>0</td>\n",
       "      <td>0</td>\n",
       "      <td>1.0</td>\n",
       "    </tr>\n",
       "    <tr>\n",
       "      <td>356525</td>\n",
       "      <td>udnGW3E1vxY</td>\n",
       "      <td>I lovr him he is such a good singer and his fianc�� is beautiful</td>\n",
       "      <td>0</td>\n",
       "      <td>0</td>\n",
       "      <td>1.0</td>\n",
       "    </tr>\n",
       "    <tr>\n",
       "      <td>485</td>\n",
       "      <td>cMKX2tE5Luk</td>\n",
       "      <td>Can't wait for this! It seems like a modern Ed Wood.</td>\n",
       "      <td>1</td>\n",
       "      <td>0</td>\n",
       "      <td>1.0</td>\n",
       "    </tr>\n",
       "  </tbody>\n",
       "</table>\n",
       "</div>"
      ],
      "text/plain": [
       "           video_id  \\\n",
       "185356  LVPIM06bMJo   \n",
       "146984  8ZRCdfaAIy0   \n",
       "451827  x0GbpqxD42k   \n",
       "321851  r9-DM9uBtVI   \n",
       "432567  KGQTkWJ5mU4   \n",
       "342626  _0d3XbH12cs   \n",
       "292228  y_h_1uN2RQA   \n",
       "458410  IZ5izPbcgG4   \n",
       "356525  udnGW3E1vxY   \n",
       "485     cMKX2tE5Luk   \n",
       "\n",
       "                                                                                                                                                                                                   comment_text  \\\n",
       "185356                                                                                                                                                          he is too adorable , almost brought me to tears   \n",
       "146984                                                                                                              Even though it wasn't a review, this might've been the most honest review I've ever seen���   \n",
       "451827                                                                                                                  I just want to mention how awesome Bostonians are. At :07 they even drink beer in sync!   \n",
       "321851                                                                         Lol... quit it with these superhero movies! It's making me laugh! Your never gonna beat Marvel and I gotta admit Marvel is shit.   \n",
       "432567                                                                                                                                             There is so much speculation and pure bullshit in this video   \n",
       "342626  Incredibly beautiful and soft simplicity in this video. it's perfect. I love the styling of clothes/hair/nature and vibe of this song. I'm excited for the album,  especially if it's like this song...   \n",
       "292228                                                                                                                                                                                        Loving this song.   \n",
       "458410                                                                                                                                                              HAHA HES SO SHOOK FOR THE REST OF THE VIDEO   \n",
       "356525                                                                                                                                         I lovr him he is such a good singer and his fianc�� is beautiful   \n",
       "485                                                                                                                                                        Can't wait for this! It seems like a modern Ed Wood.   \n",
       "\n",
       "       likes replies  pol  \n",
       "185356     0       0  1.0  \n",
       "146984     0       0  1.0  \n",
       "451827     0       0  1.0  \n",
       "321851     1       0  1.0  \n",
       "432567     0       0  1.0  \n",
       "342626     0       0  1.0  \n",
       "292228     0       0  1.0  \n",
       "458410     0       0  1.0  \n",
       "356525     0       0  1.0  \n",
       "485        1       0  1.0  "
      ]
     },
     "execution_count": 10,
     "metadata": {},
     "output_type": "execute_result"
    }
   ],
   "source": [
    "#Displaying the POSITIVE comments\n",
    "df_positive = comm[comm.pol==1]\n",
    "df_positive.head(10)"
   ]
  },
  {
   "cell_type": "markdown",
   "metadata": {},
   "source": [
    "# Displaying Negative comments"
   ]
  },
  {
   "cell_type": "code",
   "execution_count": 11,
   "metadata": {
    "scrolled": true
   },
   "outputs": [
    {
     "data": {
      "text/html": [
       "<div>\n",
       "<style scoped>\n",
       "    .dataframe tbody tr th:only-of-type {\n",
       "        vertical-align: middle;\n",
       "    }\n",
       "\n",
       "    .dataframe tbody tr th {\n",
       "        vertical-align: top;\n",
       "    }\n",
       "\n",
       "    .dataframe thead th {\n",
       "        text-align: right;\n",
       "    }\n",
       "</style>\n",
       "<table border=\"1\" class=\"dataframe\">\n",
       "  <thead>\n",
       "    <tr style=\"text-align: right;\">\n",
       "      <th></th>\n",
       "      <th>video_id</th>\n",
       "      <th>comment_text</th>\n",
       "      <th>likes</th>\n",
       "      <th>replies</th>\n",
       "      <th>pol</th>\n",
       "    </tr>\n",
       "  </thead>\n",
       "  <tbody>\n",
       "    <tr>\n",
       "      <td>317172</td>\n",
       "      <td>L_vQW3xQEhc</td>\n",
       "      <td>i would legit shit myself if you made it Jeff buckley, Sam cooke,River phoenix or James dean</td>\n",
       "      <td>1</td>\n",
       "      <td>0</td>\n",
       "      <td>-1.0</td>\n",
       "    </tr>\n",
       "    <tr>\n",
       "      <td>465804</td>\n",
       "      <td>S9VIKOuZcds</td>\n",
       "      <td>This for real made me a bit sad.</td>\n",
       "      <td>1</td>\n",
       "      <td>0</td>\n",
       "      <td>-1.0</td>\n",
       "    </tr>\n",
       "    <tr>\n",
       "      <td>375743</td>\n",
       "      <td>0ceNfXrccbQ</td>\n",
       "      <td>If Hillary won this never would of came out!and all these victimswere not forced to fuck!now if they were drugged and rapped that's different or if forced but telling hot chics if you fuck me I'll...</td>\n",
       "      <td>5</td>\n",
       "      <td>1</td>\n",
       "      <td>-1.0</td>\n",
       "    </tr>\n",
       "    <tr>\n",
       "      <td>81100</td>\n",
       "      <td>RJuqdTXhDX4</td>\n",
       "      <td>iPhone 7+ is the last upgrade I will get with the iPhones. At least I can get a splitter so I can charge and use my earbuds while my husband is watching TV and I can watch the weeks before shows. ...</td>\n",
       "      <td>0</td>\n",
       "      <td>0</td>\n",
       "      <td>-1.0</td>\n",
       "    </tr>\n",
       "    <tr>\n",
       "      <td>149483</td>\n",
       "      <td>JU21shbaVBo</td>\n",
       "      <td>I actually don't mind seeing the same animation again. I think it's pretty clever. Besides, even though I'm no animator, I think drawing different animation again and again could be pretty painful.</td>\n",
       "      <td>0</td>\n",
       "      <td>0</td>\n",
       "      <td>-1.0</td>\n",
       "    </tr>\n",
       "    <tr>\n",
       "      <td>246033</td>\n",
       "      <td>qy-UZ5B38-Y</td>\n",
       "      <td>���After all, why have human interaction when you have dangerously overheating inanimate objects to keep you company.��� -Troye Sivan</td>\n",
       "      <td>0</td>\n",
       "      <td>0</td>\n",
       "      <td>-1.0</td>\n",
       "    </tr>\n",
       "    <tr>\n",
       "      <td>458821</td>\n",
       "      <td>JpTdK2kn6TA</td>\n",
       "      <td>Wtf is wrong with this guy</td>\n",
       "      <td>0</td>\n",
       "      <td>0</td>\n",
       "      <td>-1.0</td>\n",
       "    </tr>\n",
       "    <tr>\n",
       "      <td>362734</td>\n",
       "      <td>do-9G1s9LSY</td>\n",
       "      <td>wtf so now even guys will have to take Their effing time to prepare</td>\n",
       "      <td>0</td>\n",
       "      <td>0</td>\n",
       "      <td>-1.0</td>\n",
       "    </tr>\n",
       "    <tr>\n",
       "      <td>262408</td>\n",
       "      <td>x5Ps13AeXxQ</td>\n",
       "      <td>ohh fuCK</td>\n",
       "      <td>0</td>\n",
       "      <td>0</td>\n",
       "      <td>-1.0</td>\n",
       "    </tr>\n",
       "    <tr>\n",
       "      <td>6896</td>\n",
       "      <td>rHfyvSgvgoo</td>\n",
       "      <td>2019 for season 8 wtf guys cant wait so much time please kill me now and call lady melisandre and resurrect me when season 8 is out</td>\n",
       "      <td>1</td>\n",
       "      <td>0</td>\n",
       "      <td>-1.0</td>\n",
       "    </tr>\n",
       "  </tbody>\n",
       "</table>\n",
       "</div>"
      ],
      "text/plain": [
       "           video_id  \\\n",
       "317172  L_vQW3xQEhc   \n",
       "465804  S9VIKOuZcds   \n",
       "375743  0ceNfXrccbQ   \n",
       "81100   RJuqdTXhDX4   \n",
       "149483  JU21shbaVBo   \n",
       "246033  qy-UZ5B38-Y   \n",
       "458821  JpTdK2kn6TA   \n",
       "362734  do-9G1s9LSY   \n",
       "262408  x5Ps13AeXxQ   \n",
       "6896    rHfyvSgvgoo   \n",
       "\n",
       "                                                                                                                                                                                                   comment_text  \\\n",
       "317172                                                                                                             i would legit shit myself if you made it Jeff buckley, Sam cooke,River phoenix or James dean   \n",
       "465804                                                                                                                                                                         This for real made me a bit sad.   \n",
       "375743  If Hillary won this never would of came out!and all these victimswere not forced to fuck!now if they were drugged and rapped that's different or if forced but telling hot chics if you fuck me I'll...   \n",
       "81100   iPhone 7+ is the last upgrade I will get with the iPhones. At least I can get a splitter so I can charge and use my earbuds while my husband is watching TV and I can watch the weeks before shows. ...   \n",
       "149483    I actually don't mind seeing the same animation again. I think it's pretty clever. Besides, even though I'm no animator, I think drawing different animation again and again could be pretty painful.   \n",
       "246033                                                                    ���After all, why have human interaction when you have dangerously overheating inanimate objects to keep you company.��� -Troye Sivan   \n",
       "458821                                                                                                                                                                               Wtf is wrong with this guy   \n",
       "362734                                                                                                                                      wtf so now even guys will have to take Their effing time to prepare   \n",
       "262408                                                                                                                                                                                                 ohh fuCK   \n",
       "6896                                                                        2019 for season 8 wtf guys cant wait so much time please kill me now and call lady melisandre and resurrect me when season 8 is out   \n",
       "\n",
       "       likes replies  pol  \n",
       "317172     1       0 -1.0  \n",
       "465804     1       0 -1.0  \n",
       "375743     5       1 -1.0  \n",
       "81100      0       0 -1.0  \n",
       "149483     0       0 -1.0  \n",
       "246033     0       0 -1.0  \n",
       "458821     0       0 -1.0  \n",
       "362734     0       0 -1.0  \n",
       "262408     0       0 -1.0  \n",
       "6896       1       0 -1.0  "
      ]
     },
     "execution_count": 11,
     "metadata": {},
     "output_type": "execute_result"
    }
   ],
   "source": [
    "#Displaying the NEGATIVE comments\n",
    "df_positive = comm[comm.pol==-1]\n",
    "df_positive.head(10)"
   ]
  },
  {
   "cell_type": "markdown",
   "metadata": {},
   "source": [
    "# Displaying Neutral comments"
   ]
  },
  {
   "cell_type": "code",
   "execution_count": 12,
   "metadata": {
    "scrolled": true
   },
   "outputs": [
    {
     "data": {
      "text/html": [
       "<div>\n",
       "<style scoped>\n",
       "    .dataframe tbody tr th:only-of-type {\n",
       "        vertical-align: middle;\n",
       "    }\n",
       "\n",
       "    .dataframe tbody tr th {\n",
       "        vertical-align: top;\n",
       "    }\n",
       "\n",
       "    .dataframe thead th {\n",
       "        text-align: right;\n",
       "    }\n",
       "</style>\n",
       "<table border=\"1\" class=\"dataframe\">\n",
       "  <thead>\n",
       "    <tr style=\"text-align: right;\">\n",
       "      <th></th>\n",
       "      <th>video_id</th>\n",
       "      <th>comment_text</th>\n",
       "      <th>likes</th>\n",
       "      <th>replies</th>\n",
       "      <th>pol</th>\n",
       "    </tr>\n",
       "  </thead>\n",
       "  <tbody>\n",
       "    <tr>\n",
       "      <td>67847</td>\n",
       "      <td>6x62O8A8qHw</td>\n",
       "      <td>topher grace from that 70's show is that you?</td>\n",
       "      <td>0</td>\n",
       "      <td>0</td>\n",
       "      <td>0.0</td>\n",
       "    </tr>\n",
       "    <tr>\n",
       "      <td>187472</td>\n",
       "      <td>hEdvvTF5js4</td>\n",
       "      <td>Emotional</td>\n",
       "      <td>0</td>\n",
       "      <td>0</td>\n",
       "      <td>0.0</td>\n",
       "    </tr>\n",
       "    <tr>\n",
       "      <td>85178</td>\n",
       "      <td>xPS7bqBePSs</td>\n",
       "      <td>m��nh kh��ng vi���t ti���ng anh v�� nos kh��ng n��i l��n h���t c���m x��c c���a m��nh. nh���c c��i ����o g�� m�� hay v���y !!!!</td>\n",
       "      <td>0</td>\n",
       "      <td>0</td>\n",
       "      <td>0.0</td>\n",
       "    </tr>\n",
       "    <tr>\n",
       "      <td>24137</td>\n",
       "      <td>o0hMhEsMUs0</td>\n",
       "      <td>Segurando as l��grimas ! Perfeito</td>\n",
       "      <td>0</td>\n",
       "      <td>0</td>\n",
       "      <td>0.0</td>\n",
       "    </tr>\n",
       "    <tr>\n",
       "      <td>116537</td>\n",
       "      <td>hNsUtZmWgdg</td>\n",
       "      <td>I'm seeing the plane in a fire which crashed. Where is the laser shot?</td>\n",
       "      <td>0</td>\n",
       "      <td>0</td>\n",
       "      <td>0.0</td>\n",
       "    </tr>\n",
       "    <tr>\n",
       "      <td>449700</td>\n",
       "      <td>upd8nVJr7lc</td>\n",
       "      <td>Country music is embarrassing</td>\n",
       "      <td>0</td>\n",
       "      <td>0</td>\n",
       "      <td>0.0</td>\n",
       "    </tr>\n",
       "    <tr>\n",
       "      <td>457721</td>\n",
       "      <td>crY-q80MfJU</td>\n",
       "      <td>Different ketchup taste test</td>\n",
       "      <td>0</td>\n",
       "      <td>0</td>\n",
       "      <td>0.0</td>\n",
       "    </tr>\n",
       "    <tr>\n",
       "      <td>45807</td>\n",
       "      <td>n4wFyyW71zs</td>\n",
       "      <td>I miss the Sometime Last Night style but... this still being zukulent</td>\n",
       "      <td>0</td>\n",
       "      <td>0</td>\n",
       "      <td>0.0</td>\n",
       "    </tr>\n",
       "    <tr>\n",
       "      <td>103016</td>\n",
       "      <td>J_ub7Etch2U</td>\n",
       "      <td>To hell with hellos</td>\n",
       "      <td>0</td>\n",
       "      <td>0</td>\n",
       "      <td>0.0</td>\n",
       "    </tr>\n",
       "    <tr>\n",
       "      <td>24383</td>\n",
       "      <td>eoArC99zm1M</td>\n",
       "      <td>Whalawhat?</td>\n",
       "      <td>0</td>\n",
       "      <td>0</td>\n",
       "      <td>0.0</td>\n",
       "    </tr>\n",
       "  </tbody>\n",
       "</table>\n",
       "</div>"
      ],
      "text/plain": [
       "           video_id  \\\n",
       "67847   6x62O8A8qHw   \n",
       "187472  hEdvvTF5js4   \n",
       "85178   xPS7bqBePSs   \n",
       "24137   o0hMhEsMUs0   \n",
       "116537  hNsUtZmWgdg   \n",
       "449700  upd8nVJr7lc   \n",
       "457721  crY-q80MfJU   \n",
       "45807   n4wFyyW71zs   \n",
       "103016  J_ub7Etch2U   \n",
       "24383   eoArC99zm1M   \n",
       "\n",
       "                                                                                                                           comment_text  \\\n",
       "67847                                                                                     topher grace from that 70's show is that you?   \n",
       "187472                                                                                                                        Emotional   \n",
       "85178   m��nh kh��ng vi���t ti���ng anh v�� nos kh��ng n��i l��n h���t c���m x��c c���a m��nh. nh���c c��i ����o g�� m�� hay v���y !!!!   \n",
       "24137                                                                                                 Segurando as l��grimas ! Perfeito   \n",
       "116537                                                           I'm seeing the plane in a fire which crashed. Where is the laser shot?   \n",
       "449700                                                                                                    Country music is embarrassing   \n",
       "457721                                                                                                     Different ketchup taste test   \n",
       "45807                                                             I miss the Sometime Last Night style but... this still being zukulent   \n",
       "103016                                                                                                              To hell with hellos   \n",
       "24383                                                                                                                        Whalawhat?   \n",
       "\n",
       "       likes replies  pol  \n",
       "67847      0       0  0.0  \n",
       "187472     0       0  0.0  \n",
       "85178      0       0  0.0  \n",
       "24137      0       0  0.0  \n",
       "116537     0       0  0.0  \n",
       "449700     0       0  0.0  \n",
       "457721     0       0  0.0  \n",
       "45807      0       0  0.0  \n",
       "103016     0       0  0.0  \n",
       "24383      0       0  0.0  "
      ]
     },
     "execution_count": 12,
     "metadata": {},
     "output_type": "execute_result"
    }
   ],
   "source": [
    "#Displaying the NEUTRAL comments\n",
    "df_positive = comm[comm.pol==0]\n",
    "df_positive.head(10)"
   ]
  },
  {
   "cell_type": "markdown",
   "metadata": {},
   "source": [
    "# Calculating the count of Positive, Negative & Neutral comments"
   ]
  },
  {
   "cell_type": "code",
   "execution_count": 13,
   "metadata": {},
   "outputs": [
    {
     "data": {
      "text/plain": [
       " 1.0    868\n",
       " 0.0    819\n",
       "-1.0    313\n",
       "Name: pol, dtype: int64"
      ]
     },
     "execution_count": 13,
     "metadata": {},
     "output_type": "execute_result"
    },
    {
     "data": {
      "image/png": "[encoded data removed]",
      "text/plain": [
       "<Figure size 432x288 with 1 Axes>"
      ]
     },
     "metadata": {
      "needs_background": "light"
     },
     "output_type": "display_data"
    }
   ],
   "source": [
    "comm.pol.value_counts().plot.bar()\n",
    "comm.pol.value_counts()"
   ]
  },
  {
   "cell_type": "code",
   "execution_count": null,
   "metadata": {},
   "outputs": [],
   "source": []
  },
  {
   "cell_type": "code",
   "execution_count": null,
   "metadata": {},
   "outputs": [],
   "source": []
  }
 ],
 "metadata": {
  "kernelspec": {
   "display_name": "Python 3",
   "language": "python",
   "name": "python3"
  },
  "language_info": {
   "codemirror_mode": {
    "name": "ipython",
    "version": 3
   },
   "file_extension": ".py",
   "mimetype": "text/x-python",
   "name": "python",
   "nbconvert_exporter": "python",
   "pygments_lexer": "ipython3",
   "version": "3.7.4"
  }
 },
 "nbformat": 4,
 "nbformat_minor": 1
}
